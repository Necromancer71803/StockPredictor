{
 "cells": [
  {
   "cell_type": "code",
   "execution_count": null,
   "metadata": {},
   "outputs": [],
   "source": [
    "#import the liabraries\n",
    "import pandas as pd\n",
    "import numpy as np\n",
    "from sklearn.ensemble import RandomForestRegressor\n",
    "import matplotlib.pyplot as plt"
   ]
  },
  {
   "cell_type": "code",
   "execution_count": null,
   "metadata": {},
   "outputs": [],
   "source": [
    "#Collect and clean the data\n",
    "df = pd.read_csv('Google_test_data.csv')\n",
    "df = df.dropna()\n",
    "\n",
    "#Look at the data\n",
    "df"
   ]
  },
  {
   "cell_type": "code",
   "execution_count": null,
   "metadata": {},
   "outputs": [],
   "source": [
    "# Show the data visually \n",
    "df.plot(x=\"Date\", y=\"Close\")\n",
    "plt.xticks(rotation=45)"
   ]
  },
  {
   "cell_type": "code",
   "execution_count": null,
   "metadata": {},
   "outputs": [],
   "source": [
    "#create the model\n",
    "model = RandomForestRegressor()"
   ]
  },
  {
   "cell_type": "code",
   "execution_count": null,
   "metadata": {},
   "outputs": [],
   "source": [
    "# Train the model\n",
    "X = df[['Open', 'High', 'Low', 'Volume']]\n",
    "X = X[:int(len(df)-1)]\n",
    "y = df['Close']\n",
    "y=y[:int(len(df)-1)]\n",
    "model.fit(X,y) #Training the model"
   ]
  },
  {
   "cell_type": "code",
   "execution_count": null,
   "metadata": {},
   "outputs": [],
   "source": [
    "#Test the model\n",
    "predictions = model.predict(X)\n",
    "print('The model score is:', model.score(X,y))"
   ]
  },
  {
   "cell_type": "code",
   "execution_count": null,
   "metadata": {},
   "outputs": [],
   "source": [
    "#Make the predictions\n",
    "new_data = df [['Open', 'High', 'Low', 'Volume']].tail(1)\n",
    "prediction = model.predict(new_data)\n",
    "print('The model predicts the last row or day to be:', prediction)\n",
    "print('Actual value is:', df[['Close']].tail(1).values[0][0])"
   ]
  }
 ],
 "metadata": {
  "language_info": {
   "name": "python"
  }
 },
 "nbformat": 4,
 "nbformat_minor": 2
}
