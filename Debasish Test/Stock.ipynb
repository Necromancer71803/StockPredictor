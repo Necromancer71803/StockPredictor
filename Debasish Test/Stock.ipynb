{
 "cells": [
  {
   "cell_type": "code",
   "execution_count": null,
   "metadata": {},
   "outputs": [],
   "source": [
    "import numpy as np\n",
    "import pandas as pd\n",
    "import matplotlib.pyplot as plt\n",
    "import pandas_datareader as data"
   ]
  },
  {
   "cell_type": "code",
   "execution_count": 6,
   "metadata": {},
   "outputs": [
    {
     "data": {
      "text/html": [
       "<div>\n",
       "<style scoped>\n",
       "    .dataframe tbody tr th:only-of-type {\n",
       "        vertical-align: middle;\n",
       "    }\n",
       "\n",
       "    .dataframe tbody tr th {\n",
       "        vertical-align: top;\n",
       "    }\n",
       "\n",
       "    .dataframe thead th {\n",
       "        text-align: right;\n",
       "    }\n",
       "</style>\n",
       "<table border=\"1\" class=\"dataframe\">\n",
       "  <thead>\n",
       "    <tr style=\"text-align: right;\">\n",
       "      <th></th>\n",
       "      <th>Open</th>\n",
       "      <th>High</th>\n",
       "      <th>Low</th>\n",
       "      <th>Close</th>\n",
       "      <th>Volume</th>\n",
       "    </tr>\n",
       "    <tr>\n",
       "      <th>Date</th>\n",
       "      <th></th>\n",
       "      <th></th>\n",
       "      <th></th>\n",
       "      <th></th>\n",
       "      <th></th>\n",
       "    </tr>\n",
       "  </thead>\n",
       "  <tbody>\n",
       "    <tr>\n",
       "      <th>2019-12-31</th>\n",
       "      <td>71.0084</td>\n",
       "      <td>71.9246</td>\n",
       "      <td>70.9077</td>\n",
       "      <td>71.9176</td>\n",
       "      <td>1.030855e+08</td>\n",
       "    </tr>\n",
       "    <tr>\n",
       "      <th>2019-12-30</th>\n",
       "      <td>70.8938</td>\n",
       "      <td>71.6864</td>\n",
       "      <td>69.8549</td>\n",
       "      <td>71.3983</td>\n",
       "      <td>1.472306e+08</td>\n",
       "    </tr>\n",
       "    <tr>\n",
       "      <th>2019-12-27</th>\n",
       "      <td>71.3015</td>\n",
       "      <td>71.9974</td>\n",
       "      <td>70.5647</td>\n",
       "      <td>70.9755</td>\n",
       "      <td>1.494081e+08</td>\n",
       "    </tr>\n",
       "    <tr>\n",
       "      <th>2019-12-26</th>\n",
       "      <td>69.7592</td>\n",
       "      <td>71.0214</td>\n",
       "      <td>69.7303</td>\n",
       "      <td>71.0034</td>\n",
       "      <td>9.527219e+07</td>\n",
       "    </tr>\n",
       "    <tr>\n",
       "      <th>2019-12-24</th>\n",
       "      <td>69.7273</td>\n",
       "      <td>69.7762</td>\n",
       "      <td>69.2907</td>\n",
       "      <td>69.6226</td>\n",
       "      <td>4.948450e+07</td>\n",
       "    </tr>\n",
       "  </tbody>\n",
       "</table>\n",
       "</div>"
      ],
      "text/plain": [
       "               Open     High      Low    Close        Volume\n",
       "Date                                                        \n",
       "2019-12-31  71.0084  71.9246  70.9077  71.9176  1.030855e+08\n",
       "2019-12-30  70.8938  71.6864  69.8549  71.3983  1.472306e+08\n",
       "2019-12-27  71.3015  71.9974  70.5647  70.9755  1.494081e+08\n",
       "2019-12-26  69.7592  71.0214  69.7303  71.0034  9.527219e+07\n",
       "2019-12-24  69.7273  69.7762  69.2907  69.6226  4.948450e+07"
      ]
     },
     "execution_count": 6,
     "metadata": {},
     "output_type": "execute_result"
    }
   ],
   "source": [
    "import pandas_datareader.data as web\n",
    "start = '2010-01-01'\n",
    "end = '2019-12-31'\n",
    "\n",
    "df = web.DataReader('AAPL', 'stooq', start, end)\n",
    "df.head()"
   ]
  },
  {
   "cell_type": "markdown",
   "metadata": {},
   "source": []
  },
  {
   "cell_type": "markdown",
   "metadata": {},
   "source": []
  },
  {
   "cell_type": "markdown",
   "metadata": {},
   "source": []
  },
  {
   "cell_type": "code",
   "execution_count": null,
   "metadata": {},
   "outputs": [],
   "source": []
  },
  {
   "cell_type": "code",
   "execution_count": 7,
   "metadata": {},
   "outputs": [
    {
     "data": {
      "text/html": [
       "<div>\n",
       "<style scoped>\n",
       "    .dataframe tbody tr th:only-of-type {\n",
       "        vertical-align: middle;\n",
       "    }\n",
       "\n",
       "    .dataframe tbody tr th {\n",
       "        vertical-align: top;\n",
       "    }\n",
       "\n",
       "    .dataframe thead th {\n",
       "        text-align: right;\n",
       "    }\n",
       "</style>\n",
       "<table border=\"1\" class=\"dataframe\">\n",
       "  <thead>\n",
       "    <tr style=\"text-align: right;\">\n",
       "      <th></th>\n",
       "      <th>Open</th>\n",
       "      <th>High</th>\n",
       "      <th>Low</th>\n",
       "      <th>Close</th>\n",
       "      <th>Volume</th>\n",
       "    </tr>\n",
       "    <tr>\n",
       "      <th>Date</th>\n",
       "      <th></th>\n",
       "      <th></th>\n",
       "      <th></th>\n",
       "      <th></th>\n",
       "      <th></th>\n",
       "    </tr>\n",
       "  </thead>\n",
       "  <tbody>\n",
       "    <tr>\n",
       "      <th>2010-01-08</th>\n",
       "      <td>6.40586</td>\n",
       "      <td>6.45421</td>\n",
       "      <td>6.36458</td>\n",
       "      <td>6.45401</td>\n",
       "      <td>5.246856e+08</td>\n",
       "    </tr>\n",
       "    <tr>\n",
       "      <th>2010-01-07</th>\n",
       "      <td>6.44444</td>\n",
       "      <td>6.45421</td>\n",
       "      <td>6.36409</td>\n",
       "      <td>6.41085</td>\n",
       "      <td>5.588893e+08</td>\n",
       "    </tr>\n",
       "    <tr>\n",
       "      <th>2010-01-06</th>\n",
       "      <td>6.52639</td>\n",
       "      <td>6.55241</td>\n",
       "      <td>6.41553</td>\n",
       "      <td>6.42221</td>\n",
       "      <td>6.452991e+08</td>\n",
       "    </tr>\n",
       "    <tr>\n",
       "      <th>2010-01-05</th>\n",
       "      <td>6.53905</td>\n",
       "      <td>6.56358</td>\n",
       "      <td>6.49230</td>\n",
       "      <td>6.52639</td>\n",
       "      <td>7.055130e+08</td>\n",
       "    </tr>\n",
       "    <tr>\n",
       "      <th>2010-01-04</th>\n",
       "      <td>6.49958</td>\n",
       "      <td>6.53008</td>\n",
       "      <td>6.46597</td>\n",
       "      <td>6.51522</td>\n",
       "      <td>5.764890e+08</td>\n",
       "    </tr>\n",
       "  </tbody>\n",
       "</table>\n",
       "</div>"
      ],
      "text/plain": [
       "               Open     High      Low    Close        Volume\n",
       "Date                                                        \n",
       "2010-01-08  6.40586  6.45421  6.36458  6.45401  5.246856e+08\n",
       "2010-01-07  6.44444  6.45421  6.36409  6.41085  5.588893e+08\n",
       "2010-01-06  6.52639  6.55241  6.41553  6.42221  6.452991e+08\n",
       "2010-01-05  6.53905  6.56358  6.49230  6.52639  7.055130e+08\n",
       "2010-01-04  6.49958  6.53008  6.46597  6.51522  5.764890e+08"
      ]
     },
     "execution_count": 7,
     "metadata": {},
     "output_type": "execute_result"
    }
   ],
   "source": [
    "df.tail()"
   ]
  },
  {
   "cell_type": "code",
   "execution_count": null,
   "metadata": {},
   "outputs": [],
   "source": [
    "df=df.reset_index()\n",
    "df.head()"
   ]
  },
  {
   "cell_type": "markdown",
   "metadata": {},
   "source": [
    "Dropping date and Adj Close column"
   ]
  },
  {
   "cell_type": "code",
   "execution_count": null,
   "metadata": {},
   "outputs": [],
   "source": [
    "df = df.drop(['Date'], axis=1)\n",
    "df.head()"
   ]
  },
  {
   "cell_type": "code",
   "execution_count": null,
   "metadata": {},
   "outputs": [],
   "source": [
    "plt.plot(df.Close)"
   ]
  }
 ],
 "metadata": {
  "kernelspec": {
   "display_name": "Python 3 (ipykernel)",
   "language": "python",
   "name": "python3"
  }
 },
 "nbformat": 4,
 "nbformat_minor": 2
}
